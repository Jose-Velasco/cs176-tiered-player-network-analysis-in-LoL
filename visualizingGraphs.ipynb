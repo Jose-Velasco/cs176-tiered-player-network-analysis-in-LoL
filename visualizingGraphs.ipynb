{
 "cells": [
  {
   "cell_type": "code",
   "execution_count": 1,
   "metadata": {},
   "outputs": [],
   "source": [
    "import networkx as nx\n",
    "# from utils_visualize import plot_graph, visualize\n",
    "\n",
    "\n",
    "import matplotlib.pyplot as plt\n",
    "from torch_geometric.utils import to_networkx\n",
    "import networkx as nx\n",
    "import pandas as pd\n",
    "import torch\n",
    "from sklearn.manifold import TSNE\n",
    "from torch_geometric.data import Data"
   ]
  },
  {
   "cell_type": "code",
   "execution_count": 2,
   "metadata": {},
   "outputs": [],
   "source": [
    "graph_model_output_fileName = \"hidden_embedding_graphD04-23-2024T19_36_57.graphml\"\n",
    "graph_model_output_nx: nx.Graph = nx.read_graphml(graph_model_output_fileName)"
   ]
  },
  {
   "cell_type": "code",
   "execution_count": 3,
   "metadata": {},
   "outputs": [
    {
     "data": {
      "text/plain": [
       "{'0': 0.911608874797821, '1': 0.7488175630569458, '2': -0.9674674868583679}"
      ]
     },
     "execution_count": 3,
     "metadata": {},
     "output_type": "execute_result"
    }
   ],
   "source": [
    "graph_model_output_nx.nodes[\"5\"]"
   ]
  },
  {
   "cell_type": "code",
   "execution_count": 4,
   "metadata": {},
   "outputs": [
    {
     "data": {
      "text/plain": [
       "True"
      ]
     },
     "execution_count": 4,
     "metadata": {},
     "output_type": "execute_result"
    }
   ],
   "source": [
    "graph_model_output_nx.is_directed()"
   ]
  },
  {
   "cell_type": "code",
   "execution_count": 5,
   "metadata": {},
   "outputs": [],
   "source": [
    "predicted_labels = [int(max(graph_model_output_nx.nodes[node], key=graph_model_output_nx.nodes[node].get)) for node in graph_model_output_nx.nodes]"
   ]
  },
  {
   "cell_type": "code",
   "execution_count": 8,
   "metadata": {},
   "outputs": [],
   "source": [
    "def visualize(h, color, epoch=None, loss=None, accuracy=None):\n",
    "    plt.figure(figsize=(12,12))\n",
    "    plt.xticks([])\n",
    "    plt.yticks([])\n",
    "\n",
    "    if torch.is_tensor(h):\n",
    "        h = h.detach().cpu().numpy()\n",
    "        color = color.detach().cpu().numpy()\n",
    "        plt.scatter(h[:, 0], h[:, 1], s=70, c=color, cmap=\"Set2\", alpha=0.5)\n",
    "        if epoch is not None and loss is not None and accuracy['train'] is not None and accuracy['val'] is not None:\n",
    "            plt.xlabel((f'Epoch: {epoch}, Loss: {loss.item():.4f} \\n'\n",
    "                        f'Training Accuracy: {accuracy[\"train\"]*100:.2f}% \\n'\n",
    "                        f' Validation Accuracy: {accuracy[\"val\"]*100:.2f}%'),\n",
    "                        fontsize=16)\n",
    "    else:\n",
    "        # pos = nx.spring_layout(h, seed=42)\n",
    "        pos = nx.circular_layout(h)\n",
    "        # nx.draw_networkx(h, pos=pos, with_labels=False, cmap=\"Set2\")\n",
    "        nx.draw_networkx_edges(\n",
    "            h,\n",
    "            pos,\n",
    "            width=1,\n",
    "            edge_color='black',\n",
    "            # arrowsize=15,\n",
    "            # min_source_margin= 14,\n",
    "            # min_target_margin=14,\n",
    "        )\n",
    "        nx.draw_networkx_nodes(\n",
    "            h,\n",
    "            pos,\n",
    "            node_color=color,\n",
    "            cmap=\"Set2\",\n",
    "            alpha=0.7,\n",
    "            node_size=200\n",
    "        )\n",
    "\n",
    "    plt.show()"
   ]
  },
  {
   "cell_type": "code",
   "execution_count": 9,
   "metadata": {},
   "outputs": [],
   "source": [
    "visualize(graph_model_output_nx, predicted_labels)"
   ]
  },
  {
   "cell_type": "code",
   "execution_count": null,
   "metadata": {},
   "outputs": [],
   "source": [
    "\n",
    "\n"
   ]
  },
  {
   "cell_type": "code",
   "execution_count": null,
   "metadata": {},
   "outputs": [],
   "source": []
  }
 ],
 "metadata": {
  "kernelspec": {
   "display_name": "Python 3",
   "language": "python",
   "name": "python3"
  },
  "language_info": {
   "codemirror_mode": {
    "name": "ipython",
    "version": 3
   },
   "file_extension": ".py",
   "mimetype": "text/x-python",
   "name": "python",
   "nbconvert_exporter": "python",
   "pygments_lexer": "ipython3",
   "version": "3.12.2"
  }
 },
 "nbformat": 4,
 "nbformat_minor": 2
}
